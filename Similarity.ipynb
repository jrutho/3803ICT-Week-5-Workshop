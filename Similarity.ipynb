{
 "cells": [
  {
   "cell_type": "markdown",
   "metadata": {},
   "source": [
    "# Similarity"
   ]
  },
  {
   "cell_type": "markdown",
   "metadata": {},
   "source": [
    "We will work on applying similarity: Jaccard and Cosine similarity. This exercise is a simple application of the lecture."
   ]
  },
  {
   "cell_type": "markdown",
   "metadata": {},
   "source": [
    "Begin by importing the needed libraries:"
   ]
  },
  {
   "cell_type": "code",
   "execution_count": 1,
   "metadata": {},
   "outputs": [],
   "source": [
    "# import needed libraries\n",
    "import nltk\n",
    "import numpy as np\n",
    "import pandas as pd"
   ]
  },
  {
   "cell_type": "markdown",
   "metadata": {},
   "source": [
    "We will work with the following examples:"
   ]
  },
  {
   "cell_type": "code",
   "execution_count": 9,
   "metadata": {},
   "outputs": [],
   "source": [
    "A = \"Outside the classroom, Stallman pursued his studies with even more diligence, rushing off to fulfill his laboratory-assistant duties at Rockefeller University during the week and dodging the Vietnam protesters on his way to Saturday school at Columbia. It was there, while the rest of the Science Honors Program students sat around discussing their college choices, that Stallman finally took a moment to participate in the preclass bull session.\"\n",
    "B = \"To facilitate the process, AI Lab hackers had built a system that displayed both the source and display modes on a split screen. Despite this innovative hack, switching from mode to mode was still a nuisance.\"\n",
    "C = \"With no dorm and no dancing, Stallman's social universe imploded. Like an astronaut experiencing the aftereffects of zero-gravity, Stallman found that his ability to interact with nonhackers, especially female nonhackers, had atrophied significantly. After 16 weeks in the AI Lab, the self confidence he'd been quietly accumulating during his 4 years at Harvard was virtually gone.\""
   ]
  },
  {
   "cell_type": "markdown",
   "metadata": {},
   "source": [
    "Begin by computing the Jaccard Similarity J of all possibilities:\n",
    "* J(A, B)\n",
    "* J(B, C)\n",
    "* J(A, C)"
   ]
  },
  {
   "cell_type": "code",
   "execution_count": 3,
   "metadata": {},
   "outputs": [
    {
     "name": "stdout",
     "output_type": "stream",
     "text": [
      "Jaccard similarity AB: 0.08536585365853659\n",
      "Jaccard similarity BC: 0.09210526315789473\n",
      "Jaccard similarity AC: 0.125\n"
     ]
    }
   ],
   "source": [
    "# TODO: compute the Jaccard similarities\n",
    "A = set(A.split())\n",
    "B = set(B.split())\n",
    "C = set(C.split())\n",
    "\n",
    "intersection_AB = A.intersection(B)\n",
    "intersection_AC = A.intersection(C)\n",
    "intersection_BC = B.intersection(C)\n",
    "\n",
    "union_AB = A.union(B)\n",
    "union_AC = A.union(C)\n",
    "union_BC = B.union(C)\n",
    "\n",
    "jaccard_AB = len(intersection_AB) / len(union_AB)\n",
    "jaccard_AC = len(intersection_AC) / len(union_AC)\n",
    "jaccard_BC = len(intersection_BC) / len(union_BC)\n",
    "\n",
    "print(\"Jaccard similarity AB:\", jaccard_AB)\n",
    "print(\"Jaccard similarity BC:\", jaccard_BC)\n",
    "print(\"Jaccard similarity AC:\", jaccard_AC)"
   ]
  },
  {
   "cell_type": "markdown",
   "metadata": {},
   "source": [
    "What are the closest to the other according to Jaccard Similarity?\n",
    "\n",
    "Now let's do the same using TF-IDF and Cosine Similarity. Compute the TF-IDF and cosine similarities and print them."
   ]
  },
  {
   "cell_type": "code",
   "execution_count": 12,
   "metadata": {
    "scrolled": true
   },
   "outputs": [
    {
     "name": "stdout",
     "output_type": "stream",
     "text": [
      "TF-IDF:\n",
      "  (0, 85)\t0.11666736942578056\n",
      "  (0, 16)\t0.11666736942578056\n",
      "  (0, 70)\t0.11666736942578056\n",
      "  (0, 51)\t0.08872854160262872\n",
      "  (0, 69)\t0.11666736942578056\n",
      "  (0, 60)\t0.11666736942578056\n",
      "  (0, 102)\t0.11666736942578056\n",
      "  (0, 37)\t0.11666736942578056\n",
      "  (0, 96)\t0.06890562779497833\n",
      "  (0, 17)\t0.11666736942578056\n",
      "  (0, 19)\t0.11666736942578056\n",
      "  (0, 98)\t0.11666736942578056\n",
      "  (0, 25)\t0.11666736942578056\n",
      "  (0, 8)\t0.11666736942578056\n",
      "  (0, 79)\t0.11666736942578056\n",
      "  (0, 92)\t0.11666736942578056\n",
      "  (0, 72)\t0.11666736942578056\n",
      "  (0, 49)\t0.11666736942578056\n",
      "  (0, 82)\t0.11666736942578056\n",
      "  (0, 65)\t0.08872854160262872\n",
      "  (0, 76)\t0.11666736942578056\n",
      "  (0, 111)\t0.11666736942578056\n",
      "  (0, 99)\t0.11666736942578056\n",
      "  (0, 107)\t0.06890562779497833\n",
      "  (0, 54)\t0.11666736942578056\n",
      "  :\t:\n",
      "  (2, 34)\t0.13420177971332914\n",
      "  (2, 10)\t0.13420177971332914\n",
      "  (2, 6)\t0.13420177971332914\n",
      "  (2, 57)\t0.13420177971332914\n",
      "  (2, 50)\t0.13420177971332914\n",
      "  (2, 103)\t0.13420177971332914\n",
      "  (2, 87)\t0.13420177971332914\n",
      "  (2, 22)\t0.13420177971332914\n",
      "  (2, 29)\t0.13420177971332914\n",
      "  (2, 62)\t0.2684035594266583\n",
      "  (2, 45)\t0.10206391258368148\n",
      "  (2, 55)\t0.10206391258368148\n",
      "  (2, 5)\t0.10206391258368148\n",
      "  (2, 51)\t0.10206391258368148\n",
      "  (2, 96)\t0.07926173297524372\n",
      "  (2, 65)\t0.10206391258368148\n",
      "  (2, 107)\t0.07926173297524372\n",
      "  (2, 7)\t0.07926173297524372\n",
      "  (2, 30)\t0.10206391258368148\n",
      "  (2, 11)\t0.10206391258368148\n",
      "  (2, 101)\t0.07926173297524372\n",
      "  (2, 112)\t0.20412782516736297\n",
      "  (2, 48)\t0.20412782516736297\n",
      "  (2, 90)\t0.20412782516736297\n",
      "  (2, 97)\t0.23778519892573116\n",
      "\n",
      "Cosine Similarities:\n",
      "[[1.         0.1679327  0.2850296 ]\n",
      " [0.1679327  1.         0.13618963]\n",
      " [0.2850296  0.13618963 1.        ]]\n"
     ]
    }
   ],
   "source": [
    "from sklearn.feature_extraction.text import TfidfVectorizer\n",
    "from sklearn.metrics.pairwise import cosine_similarity\n",
    "\n",
    "vectorizer = TfidfVectorizer()\n",
    "tfidf = vectorizer.fit_transform([A, B, C])\n",
    "cosine_similarities = cosine_similarity(tfidf, tfidf)\n",
    "\n",
    "print(\"TF-IDF:\")\n",
    "print(tfidf)\n",
    "print(\"\\nCosine Similarities:\")\n",
    "print(cosine_similarities)"
   ]
  },
  {
   "cell_type": "markdown",
   "metadata": {},
   "source": [
    "Is it consistent with the Jaccard values?"
   ]
  }
 ],
 "metadata": {
  "kernelspec": {
   "display_name": "Python 3 (ipykernel)",
   "language": "python",
   "name": "python3"
  },
  "language_info": {
   "codemirror_mode": {
    "name": "ipython",
    "version": 3
   },
   "file_extension": ".py",
   "mimetype": "text/x-python",
   "name": "python",
   "nbconvert_exporter": "python",
   "pygments_lexer": "ipython3",
   "version": "3.10.11"
  },
  "toc": {
   "base_numbering": 1,
   "nav_menu": {},
   "number_sections": true,
   "sideBar": true,
   "skip_h1_title": false,
   "title_cell": "Table of Contents",
   "title_sidebar": "Contents",
   "toc_cell": false,
   "toc_position": {},
   "toc_section_display": true,
   "toc_window_display": false
  }
 },
 "nbformat": 4,
 "nbformat_minor": 2
}
